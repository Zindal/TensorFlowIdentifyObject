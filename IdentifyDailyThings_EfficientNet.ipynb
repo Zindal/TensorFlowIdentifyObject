{
  "nbformat": 4,
  "nbformat_minor": 0,
  "metadata": {
    "colab": {
      "provenance": []
    },
    "kernelspec": {
      "name": "python3",
      "display_name": "Python 3"
    },
    "language_info": {
      "name": "python"
    },
    "gpuClass": "standard",
    "accelerator": "GPU"
  },
  "cells": [
    {
      "cell_type": "markdown",
      "source": [
        "# Preparing Dataset"
      ],
      "metadata": {
        "id": "fIJ-22FBX5A2"
      }
    },
    {
      "cell_type": "code",
      "execution_count": null,
      "metadata": {
        "colab": {
          "base_uri": "https://localhost:8080/"
        },
        "id": "Kd5tq6uhmg9K",
        "outputId": "604cc26d-8b16-4ab5-dbe2-dc13dda314a4"
      },
      "outputs": [
        {
          "output_type": "stream",
          "name": "stdout",
          "text": [
            "Mounted at /content/drive/\n"
          ]
        }
      ],
      "source": [
        "from google.colab import drive\n",
        "drive.mount('/content/drive/')"
      ]
    },
    {
      "cell_type": "code",
      "source": [
        "dataset_folder = \"/content/drive/MyDrive/dailything\"\n",
        "\n",
        "train_split_percent = 80\n",
        "\n",
        "processed_images_path = '/content/drive/MyDrive/dailything'\n",
        "train_path = '/content/train'\n",
        "test_path = '/content/test'\n",
        "\n",
        "target_size = 400\n",
        "\n",
        "model_save_directory = \"/content/drive/MyDrive/new_models\"\n",
        "model_file_name = \"efficientnet_B7.h5\"\n",
        "['acremote','bottol','key','mobilecharger','laptop'] \n",
        "folder_labels = {\n",
        "    \"Remote\" : \"acremote\",\n",
        "    \"Water bottel\" : \"bottol\",\n",
        "    \"Lock Key\" : \"key\",\n",
        "    \"Charger\" : \"mobilecharger\",\n",
        "    \"Laptop\" : \"laptop\",\n",
        "}"
      ],
      "metadata": {
        "id": "UgT4xhk-n4jS"
      },
      "execution_count": null,
      "outputs": []
    },
    {
      "cell_type": "code",
      "source": [
        "import os\n",
        "\n",
        "model_save_path = os.path.join(model_save_directory,model_file_name)"
      ],
      "metadata": {
        "id": "u3YwlJqyrme-"
      },
      "execution_count": null,
      "outputs": []
    },
    {
      "cell_type": "markdown",
      "source": [
        "# Pre-Processing"
      ],
      "metadata": {
        "id": "klrTEprQnM04"
      }
    },
    {
      "cell_type": "code",
      "source": [
        "# Current directory should be /dataset\n",
        "import os\n",
        "from skimage import io, color\n",
        "dataset_directory = os.path.join(os.getcwd(),dataset_folder)\n",
        "for m_folder in os.listdir(dataset_directory):\n",
        "  if m_folder not in folder_labels:\n",
        "    continue\n",
        "  category_name = folder_labels[m_folder]\n",
        "  sub_folder_path = os.path.join(dataset_directory,m_folder)\n",
        "  for m_file in os.listdir(sub_folder_path):\n",
        "    in_path = os.path.join(sub_folder_path,m_file)\n",
        "    out_path = os.path.join(processed_images_path,category_name,m_file)\n",
        "    try:\n",
        "      i1 = io.imread(in_path)\n",
        "    except:\n",
        "      print(in_path)\n",
        "      continue\n",
        "    io.imsave(out_path, i1)\n",
        "print(\"Pre-Processing completed.\")"
      ],
      "metadata": {
        "colab": {
          "base_uri": "https://localhost:8080/"
        },
        "id": "Wvvbau87mtrL",
        "outputId": "471e4f3b-7111-4cf8-8f4d-b436aa268bfe"
      },
      "execution_count": null,
      "outputs": [
        {
          "output_type": "stream",
          "name": "stdout",
          "text": [
            "Pre-Processing completed.\n"
          ]
        }
      ]
    },
    {
      "cell_type": "markdown",
      "source": [
        "# Dataset loading and augmenting"
      ],
      "metadata": {
        "id": "J5MTGg1VnVAF"
      }
    },
    {
      "cell_type": "code",
      "source": [
        "from keras.models import Sequential\n",
        "from keras import layers\n",
        "import tensorflow as tf\n",
        "\n",
        "img_augmentation = Sequential(\n",
        "    [\n",
        "        layers.RandomHeight(0.2),\n",
        "        layers.RandomWidth(0.2),\n",
        "        layers.RandomTranslation(height_factor=0.1, width_factor=0.1),\n",
        "        layers.RandomZoom(0.3,0.3),\n",
        "        layers.RandomRotation(360),\n",
        "        layers.RandomFlip(\"horizontal_and_vertical\"),\n",
        "        layers.RandomContrast(factor=0.1),\n",
        "    ],\n",
        ")"
      ],
      "metadata": {
        "id": "xOVb_ng9nURv"
      },
      "execution_count": null,
      "outputs": []
    },
    {
      "cell_type": "code",
      "source": [
        "%cd '/content'\n",
        "!rm -rf './processed/.ipynb_checkpoints'"
      ],
      "metadata": {
        "colab": {
          "base_uri": "https://localhost:8080/"
        },
        "id": "m9jAe0k1muL-",
        "outputId": "9f59b0a8-67ca-479a-9f1f-2d86b1fc4bb8"
      },
      "execution_count": null,
      "outputs": [
        {
          "output_type": "stream",
          "name": "stdout",
          "text": [
            "/content\n"
          ]
        }
      ]
    },
    {
      "cell_type": "code",
      "source": [
        "input_shape = (target_size,target_size,3)\n",
        "batch_size = 32 #@param {type:\"slider\", min:1, max:256, step:1}\n",
        "seed = 1607 #@param {type:\"slider\", min:1, max:10000, step:1}\n",
        "\n",
        "\n",
        "train_ds, val_ds = tf.keras.utils.image_dataset_from_directory(\n",
        "    \"/content/drive/MyDrive/dailything\",\n",
        "    label_mode='categorical',\n",
        "    validation_split=0.2,\n",
        "    subset=\"both\",\n",
        "    seed=1607,\n",
        "    image_size=(target_size,target_size),\n",
        "    batch_size=batch_size,\n",
        ")\n",
        "\n",
        "aug_train_ds = train_ds.map(\n",
        "  lambda x, y: (img_augmentation(x, training=True), y))\n",
        "\n",
        "aug_val_ds = val_ds.map(\n",
        "  lambda x, y: (img_augmentation(x, training=True), y))"
      ],
      "metadata": {
        "colab": {
          "base_uri": "https://localhost:8080/"
        },
        "id": "-Ot54YyTnq1r",
        "outputId": "eac53f1f-bf8e-4ad4-9e8f-22a2c7423b4b"
      },
      "execution_count": null,
      "outputs": [
        {
          "output_type": "stream",
          "name": "stdout",
          "text": [
            "Found 192 files belonging to 5 classes.\n",
            "Using 154 files for training.\n",
            "Using 38 files for validation.\n"
          ]
        }
      ]
    },
    {
      "cell_type": "markdown",
      "source": [
        "# Helper functions"
      ],
      "metadata": {
        "id": "F62u8UOC8Zxx"
      }
    },
    {
      "cell_type": "code",
      "source": [
        "import matplotlib.pyplot as plt\n",
        "\n",
        "def plot_hist(hist):\n",
        "    plt.plot(hist.history[\"accuracy\"])\n",
        "    plt.plot(hist.history[\"val_accuracy\"])\n",
        "    plt.title(\"model accuracy\")\n",
        "    plt.ylabel(\"accuracy\")\n",
        "    plt.xlabel(\"epoch\")\n",
        "    plt.legend([\"train\", \"validation\"], loc=\"upper left\")\n",
        "    plt.show()"
      ],
      "metadata": {
        "id": "W6AwNiHU8cB9"
      },
      "execution_count": null,
      "outputs": []
    },
    {
      "cell_type": "markdown",
      "source": [
        "# Using EfficientNet"
      ],
      "metadata": {
        "id": "_WEMD-hExLdB"
      }
    },
    {
      "cell_type": "code",
      "source": [
        "from keras.applications import EfficientNetB7"
      ],
      "metadata": {
        "id": "MTUxAwFK4ubd"
      },
      "execution_count": null,
      "outputs": []
    },
    {
      "cell_type": "code",
      "source": [
        "n_classes = len(train_ds.class_names)\n",
        "print(train_ds.class_names)"
      ],
      "metadata": {
        "id": "-TDlbeMGYpgN",
        "colab": {
          "base_uri": "https://localhost:8080/"
        },
        "outputId": "4ae2edd6-b0ff-41e9-a6a7-c7eeac41ae97"
      },
      "execution_count": null,
      "outputs": [
        {
          "output_type": "stream",
          "name": "stdout",
          "text": [
            "['acremote', 'bottol', 'key', 'laptop', 'mobilecharger']\n"
          ]
        }
      ]
    },
    {
      "cell_type": "code",
      "source": [
        "def build_model(num_classes):\n",
        "    inputs = layers.Input(shape=(target_size, target_size, 3))\n",
        "    x = inputs\n",
        "    model = EfficientNetB7(include_top=False, input_tensor=x, weights=\"imagenet\")\n",
        "\n",
        "    # Freeze the pretrained weights\n",
        "    model.trainable = False\n",
        "\n",
        "    # Rebuild top\n",
        "    x = layers.GlobalAveragePooling2D(name=\"avg_pool\")(model.output)\n",
        "    x = layers.BatchNormalization()(x)\n",
        "\n",
        "    top_dropout_rate = 0.2\n",
        "    x = layers.Dropout(top_dropout_rate, name=\"top_dropout\")(x)\n",
        "    outputs = layers.Dense(num_classes, activation=\"softmax\", name=\"pred\")(x)\n",
        "\n",
        "    # Compile\n",
        "    model = tf.keras.Model(inputs, outputs, name=\"EfficientNet_B7\")\n",
        "    optimizer = tf.keras.optimizers.Adam(learning_rate=1e-3)\n",
        "    model.compile(\n",
        "        optimizer=optimizer, loss=\"categorical_crossentropy\", metrics=[\"accuracy\"]\n",
        "    )\n",
        "    return model"
      ],
      "metadata": {
        "id": "GARPAzU71DVC"
      },
      "execution_count": null,
      "outputs": []
    },
    {
      "cell_type": "code",
      "source": [
        "model = build_model(n_classes)"
      ],
      "metadata": {
        "id": "V8VOdsTo5DXQ"
      },
      "execution_count": null,
      "outputs": []
    },
    {
      "cell_type": "code",
      "source": [
        "from keras.callbacks import ModelCheckpoint, EarlyStopping\n",
        "\n",
        "# ckpt = ModelCheckpoint(filepath=model_save_path,monitor='val_accuracy',verbose=1,save_best_only=True)\n",
        "es = EarlyStopping(monitor=\"val_accuracy\",min_delta=0.01,patience=10,verbose=1)\n",
        "\n",
        "# cb = [ckpt,es]\n",
        "cb = [es]"
      ],
      "metadata": {
        "id": "9UgcMsaI66lt"
      },
      "execution_count": null,
      "outputs": []
    },
    {
      "cell_type": "markdown",
      "source": [
        "Check if all dataset images are in jpeg formate\n"
      ],
      "metadata": {
        "id": "LU9DBUrBui7S"
      }
    },
    {
      "cell_type": "code",
      "source": [
        "from pathlib import Path\n",
        "import imghdr\n",
        "\n",
        "data_dir = \"/content/drive/MyDrive/dailything/mobilecharger\"\n",
        "image_extensions = [\".png\", \".jpeg\"] \n",
        "\n",
        "img_type_accepted_by_tf = [\"bmp\", \"gif\", \"jpeg\", \"png\"]\n",
        "for filepath in Path(data_dir).rglob(\"*\"):\n",
        "    if filepath.suffix.lower() in image_extensions:\n",
        "        img_type = imghdr.what(filepath)\n",
        "        if img_type is None:\n",
        "            print(f\"{filepath} is not an image\")\n",
        "        elif img_type not in img_type_accepted_by_tf:\n",
        "            print(f\"{filepath} is a {img_type}, not accepted by TensorFlow\")\n"
      ],
      "metadata": {
        "id": "dzk-8k1AlVJM"
      },
      "execution_count": null,
      "outputs": []
    },
    {
      "cell_type": "code",
      "source": [
        "# @title Train the model\n",
        "steps = 10 \n",
        "validation_steps = 3 \n",
        "epochs = 50\n",
        "hist = model.fit(aug_train_ds.repeat(), steps_per_epoch=steps,validation_data=aug_val_ds.repeat(),validation_steps=validation_steps, epochs=epochs, callbacks=cb)"
      ],
      "metadata": {
        "colab": {
          "base_uri": "https://localhost:8080/"
        },
        "id": "PnEFZkV55BTZ",
        "outputId": "f1929448-4a80-44f6-e157-dae96f06a7f3"
      },
      "execution_count": null,
      "outputs": [
        {
          "output_type": "stream",
          "name": "stdout",
          "text": [
            "Epoch 1/50\n",
            "10/10 [==============================] - 82s 6s/step - loss: 0.9476 - accuracy: 0.6656 - val_loss: 0.9074 - val_accuracy: 0.9143\n",
            "Epoch 2/50\n",
            "10/10 [==============================] - 41s 4s/step - loss: 0.1129 - accuracy: 0.9545 - val_loss: 0.6496 - val_accuracy: 0.9571\n",
            "Epoch 3/50\n",
            "10/10 [==============================] - 37s 4s/step - loss: 0.0578 - accuracy: 0.9870 - val_loss: 0.5811 - val_accuracy: 0.9571\n",
            "Epoch 4/50\n",
            "10/10 [==============================] - 35s 4s/step - loss: 0.0476 - accuracy: 0.9870 - val_loss: 0.4830 - val_accuracy: 0.9286\n",
            "Epoch 5/50\n",
            "10/10 [==============================] - 34s 4s/step - loss: 0.0329 - accuracy: 0.9903 - val_loss: 0.4651 - val_accuracy: 0.9571\n",
            "Epoch 6/50\n",
            "10/10 [==============================] - 59s 6s/step - loss: 0.0164 - accuracy: 1.0000 - val_loss: 0.3536 - val_accuracy: 0.9714\n",
            "Epoch 7/50\n",
            "10/10 [==============================] - 35s 4s/step - loss: 0.0088 - accuracy: 1.0000 - val_loss: 0.3160 - val_accuracy: 1.0000\n",
            "Epoch 8/50\n",
            "10/10 [==============================] - 34s 4s/step - loss: 0.0123 - accuracy: 0.9968 - val_loss: 0.3101 - val_accuracy: 0.9571\n",
            "Epoch 9/50\n",
            "10/10 [==============================] - 34s 4s/step - loss: 0.0154 - accuracy: 0.9968 - val_loss: 0.3255 - val_accuracy: 0.9571\n",
            "Epoch 10/50\n",
            "10/10 [==============================] - 35s 4s/step - loss: 0.0081 - accuracy: 1.0000 - val_loss: 0.2811 - val_accuracy: 0.9714\n",
            "Epoch 11/50\n",
            "10/10 [==============================] - 28s 3s/step - loss: 0.0090 - accuracy: 1.0000 - val_loss: 0.2707 - val_accuracy: 0.9571\n",
            "Epoch 12/50\n",
            "10/10 [==============================] - 35s 4s/step - loss: 0.0344 - accuracy: 0.9838 - val_loss: 0.2196 - val_accuracy: 1.0000\n",
            "Epoch 13/50\n",
            "10/10 [==============================] - 31s 3s/step - loss: 0.0049 - accuracy: 0.9968 - val_loss: 0.2268 - val_accuracy: 0.9714\n",
            "Epoch 14/50\n",
            "10/10 [==============================] - 34s 4s/step - loss: 0.0082 - accuracy: 1.0000 - val_loss: 0.2023 - val_accuracy: 0.9571\n",
            "Epoch 15/50\n",
            "10/10 [==============================] - 38s 4s/step - loss: 0.0143 - accuracy: 0.9968 - val_loss: 0.1826 - val_accuracy: 0.9857\n",
            "Epoch 16/50\n",
            "10/10 [==============================] - 39s 4s/step - loss: 0.0098 - accuracy: 1.0000 - val_loss: 0.1562 - val_accuracy: 0.9857\n",
            "Epoch 17/50\n",
            "10/10 [==============================] - 29s 3s/step - loss: 0.0073 - accuracy: 0.9968 - val_loss: 0.1399 - val_accuracy: 0.9857\n",
            "Epoch 17: early stopping\n"
          ]
        }
      ]
    },
    {
      "cell_type": "code",
      "source": [
        "plot_hist(hist)"
      ],
      "metadata": {
        "colab": {
          "base_uri": "https://localhost:8080/",
          "height": 472
        },
        "id": "pBxBK91B5Bsv",
        "outputId": "78e800c1-8cd5-4c7b-eb41-2fac63daaa2d"
      },
      "execution_count": null,
      "outputs": [
        {
          "output_type": "display_data",
          "data": {
            "text/plain": [
              "<Figure size 640x480 with 1 Axes>"
            ],
            "image/png": "[encoded data removed]"
          },
          "metadata": {}
        }
      ]
    },
    {
      "cell_type": "code",
      "source": [
        "def unfreeze_model(model):\n",
        "    # We unfreeze the top 20 layers while leaving BatchNorm layers frozen\n",
        "    for layer in model.layers[:20]:\n",
        "        is_batch_norm = isinstance(layer, layers.BatchNormalization)\n",
        "        is_activation = isinstance(layer, layers.Activation)\n",
        "        if is_batch_norm or is_activation:\n",
        "          continue\n",
        "        layer.trainable = True\n",
        "\n",
        "\n",
        "    optimizer = tf.keras.optimizers.Adam(learning_rate=3e-4)\n",
        "    \n",
        "    model.compile(\n",
        "        optimizer=optimizer, loss=\"categorical_crossentropy\", metrics=[\"accuracy\"]\n",
        "    )\n",
        "\n",
        "\n",
        "unfreeze_model(model)\n",
        "\n",
        "epochs = 40  # @param {type: \"slider\", min:1, max:50}\n",
        "steps = 10  # @param {type: \"slider\", min:1, max:20}\n",
        "validation_steps = 2  # @param {type: \"slider\", min:0, max:10}\n",
        "hist = model.fit(train_ds.repeat(), steps_per_epoch=steps,validation_data=val_ds.repeat(),validation_steps=validation_steps, epochs=epochs, callbacks=cb)\n",
        "plot_hist(hist)"
      ],
      "metadata": {
        "cellView": "form",
        "id": "I9ebVJaM87Br"
      },
      "execution_count": null,
      "outputs": []
    },
    {
      "cell_type": "markdown",
      "source": [
        "# Test the model"
      ],
      "metadata": {
        "id": "VuALNfDEgUO0"
      }
    },
    {
      "cell_type": "code",
      "source": [
        "# train_ds.class_names\n",
        "classes = ['acremote','bottol','key','mobilecharger','laptop'] "
      ],
      "metadata": {
        "id": "QMk575OlgyJp"
      },
      "execution_count": null,
      "outputs": []
    },
    {
      "cell_type": "code",
      "source": [
        "paths = {\n",
        "    \"/content/acremote.jpeg\" : 0,\n",
        "    \"/content/bottel.jpeg\"                              : 1,\n",
        "    \"/content/key.jpeg\"                      : 2,\n",
        "    \"/content/mobilecharger.jpeg\"             : 3,\n",
        "    \"/content/laptop.jpeg\"                  : 4,\n",
        "}"
      ],
      "metadata": {
        "id": "5SChR0ThhPTv"
      },
      "execution_count": null,
      "outputs": []
    },
    {
      "cell_type": "code",
      "source": [
        "import cv2\n",
        "\n",
        "def get_class_name(img_path: str):\n",
        "  target_dims = (target_size,target_size)\n",
        "\n",
        "  img = cv2.imread(img_path)\n",
        "\n",
        "  img = cv2.cvtColor(img, cv2.COLOR_BGR2RGB)\n",
        "  img = cv2.resize(img, target_dims)\n",
        "  # img = img/255.0\n",
        "\n",
        "  # img = img.reshape((1,*target_dims,3))\n",
        "\n",
        "  pred = model.predict(\n",
        "      np.array([img])\n",
        "      )\n",
        "  # print(pred)\n",
        "\n",
        "  idx = pred.argmax()\n",
        "  print(classes[idx])\n",
        "  return classes[idx]"
      ],
      "metadata": {
        "id": "k-6EOIzegHL6"
      },
      "execution_count": null,
      "outputs": []
    },
    {
      "cell_type": "code",
      "source": [
        "res = [\n",
        "    get_class_name(path_name)\n",
        "    for path_name in paths\n",
        "]"
      ],
      "metadata": {
        "id": "5huJrwNVhCgs",
        "colab": {
          "base_uri": "https://localhost:8080/"
        },
        "outputId": "8dfb2667-a926-47bb-f233-72bf5ad2ace2"
      },
      "execution_count": null,
      "outputs": [
        {
          "output_type": "stream",
          "name": "stdout",
          "text": [
            "1/1 [==============================] - 0s 67ms/step\n",
            "[[0.93123484 0.01004174 0.01821818 0.02523981 0.01526551]]\n",
            "acremote\n",
            "1/1 [==============================] - 0s 73ms/step\n",
            "[[0.00332541 0.97782236 0.00230015 0.01162222 0.00492995]]\n",
            "bottol\n",
            "1/1 [==============================] - 0s 62ms/step\n",
            "[[0.00850986 0.01591729 0.92690897 0.01299971 0.03566424]]\n",
            "key\n",
            "1/1 [==============================] - 0s 65ms/step\n",
            "[[0.00906059 0.01836475 0.0145159  0.04840096 0.90965784]]\n",
            "laptop\n",
            "1/1 [==============================] - 0s 63ms/step\n",
            "[[0.00163781 0.00897714 0.0124137  0.9672666  0.00970469]]\n",
            "mobilecharger\n"
          ]
        }
      ]
    },
    {
      "cell_type": "code",
      "source": [
        "values = tuple(paths.values())\n",
        "\n",
        "for idx in range(len(res)):\n",
        "  print(\"Expected :\",classes[values[idx]],\"  || GOT : \",res[idx])"
      ],
      "metadata": {
        "id": "Tg1uEe25hUt2",
        "colab": {
          "base_uri": "https://localhost:8080/"
        },
        "outputId": "b0ca6b97-0603-42e2-bb78-1f9878775125"
      },
      "execution_count": null,
      "outputs": [
        {
          "output_type": "stream",
          "name": "stdout",
          "text": [
            "Expected : acremote   || GOT :  acremote\n",
            "Expected : bottol   || GOT :  bottol\n",
            "Expected : key   || GOT :  key\n",
            "Expected : mobilecharger   || GOT :  laptop\n",
            "Expected : laptop   || GOT :  mobilecharger\n"
          ]
        }
      ]
    }
  ]
}